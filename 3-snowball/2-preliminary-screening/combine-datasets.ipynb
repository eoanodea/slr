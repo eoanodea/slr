{
 "cells": [
  {
   "cell_type": "code",
   "execution_count": 10,
   "id": "5fcabe1f",
   "metadata": {},
   "outputs": [],
   "source": [
    "import os\n",
    "import pandas as pd\n",
    "import re\n",
    "\n",
    "# Paths\n",
    "base_dir = \"rounds\""
   ]
  },
  {
   "cell_type": "code",
   "execution_count": 11,
   "id": "ac400596",
   "metadata": {},
   "outputs": [],
   "source": [
    "def load_and_tag_rounds(folder):\n",
    "    dfs = []\n",
    "    for fname in os.listdir(folder):\n",
    "        round_match = re.match(r'round_(\\d+)\\.csv', fname)\n",
    "        if round_match:\n",
    "            round_num = int(round_match.group(1))\n",
    "            col_name = f\"round_{round_num}\"\n",
    "            df = pd.read_csv(os.path.join(folder, fname))\n",
    "            df = df[['doi', 'included']].copy()\n",
    "            df[col_name] = df['included'].apply(lambda x: 1 if x == 1 else 0)\n",
    "            df = df[['doi', col_name]]\n",
    "            dfs.append(df)\n",
    "    if dfs:\n",
    "        result = dfs[0]\n",
    "        for d in dfs[1:]:\n",
    "            result = pd.merge(result, d, on='doi', how='outer')\n",
    "        return result\n",
    "    else:\n",
    "        return pd.DataFrame(columns=['doi'])\n",
    "\n",
    "# Load and tag all rounds\n",
    "all_rounds_df = load_and_tag_rounds(base_dir)\n",
    "\n",
    "# Optionally, merge with metadata from round_1.csv\n",
    "meta_path = os.path.join(base_dir, \"round_1.csv\")\n",
    "if os.path.exists(meta_path):\n",
    "    meta_df = pd.read_csv(meta_path)\n",
    "    meta_cols = [col for col in meta_df.columns if col not in all_rounds_df.columns and col != 'included']\n",
    "    all_rounds_df = all_rounds_df.merge(meta_df[['doi'] + meta_cols].drop_duplicates(), on='doi', how='left')\n",
    "\n",
    "# Fill NaN with 0 (not marked relevant in that round)\n",
    "for col in all_rounds_df.columns:\n",
    "    if col.startswith('round_'):\n",
    "        all_rounds_df[col] = all_rounds_df[col].fillna(0).astype(int)\n"
   ]
  },
  {
   "cell_type": "code",
   "execution_count": 12,
   "id": "0cf628a3",
   "metadata": {},
   "outputs": [
    {
     "name": "stdout",
     "output_type": "stream",
     "text": [
      "round_2: 25 relevant\n",
      "round_1: 25 relevant\n",
      "Total unique DOIs: 403\n"
     ]
    }
   ],
   "source": [
    "# Show counts for each round\n",
    "for col in all_rounds_df.columns:\n",
    "    if col.startswith('round_'):\n",
    "        print(f\"{col}: {all_rounds_df[col].sum()} relevant\")\n",
    "\n",
    "# Count the total number of unique DOIs\n",
    "print(f\"Total unique DOIs: {len(all_rounds_df['doi'].unique())}\")\n"
   ]
  },
  {
   "cell_type": "code",
   "execution_count": 13,
   "id": "2db76542",
   "metadata": {},
   "outputs": [
    {
     "name": "stdout",
     "output_type": "stream",
     "text": [
      "Combined dataset saved as rounds/combined_results.csv\n"
     ]
    }
   ],
   "source": [
    "output_file = os.path.join(base_dir, \"combined_results.csv\")\n",
    "all_rounds_df.to_csv(output_file, index=False)\n",
    "print(f\"Combined dataset saved as {output_file}\")"
   ]
  }
 ],
 "metadata": {
  "kernelspec": {
   "display_name": "phd",
   "language": "python",
   "name": "python3"
  },
  "language_info": {
   "codemirror_mode": {
    "name": "ipython",
    "version": 3
   },
   "file_extension": ".py",
   "mimetype": "text/x-python",
   "name": "python",
   "nbconvert_exporter": "python",
   "pygments_lexer": "ipython3",
   "version": "3.10.16"
  }
 },
 "nbformat": 4,
 "nbformat_minor": 5
}
