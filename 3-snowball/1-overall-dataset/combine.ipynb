{
 "cells": [
  {
   "cell_type": "code",
   "execution_count": 22,
   "id": "ddeadc9f",
   "metadata": {},
   "outputs": [],
   "source": [
    "import os\n",
    "import pandas as pd\n",
    "import re\n",
    "import langdetect"
   ]
  },
  {
   "cell_type": "code",
   "execution_count": 23,
   "id": "7e1eaa1d",
   "metadata": {},
   "outputs": [],
   "source": [
    "forward_snowball = pd.read_csv('dataset/forward_snowball_start.csv')\n",
    "backward_snowball = pd.read_csv('dataset/backward_snowball_start.csv')"
   ]
  },
  {
   "cell_type": "code",
   "execution_count": 24,
   "id": "c8c5451b",
   "metadata": {},
   "outputs": [],
   "source": [
    "# combine the two\n",
    "combined_snowball = pd.concat([forward_snowball, backward_snowball]).drop_duplicates().reset_index(drop=True)\n",
    "combined_snowball.to_csv('dataset/combined_snowball_start.csv', index=False)"
   ]
  },
  {
   "cell_type": "code",
   "execution_count": 25,
   "id": "c04191e9",
   "metadata": {},
   "outputs": [
    {
     "data": {
      "text/plain": [
       "1975"
      ]
     },
     "execution_count": 25,
     "metadata": {},
     "output_type": "execute_result"
    }
   ],
   "source": [
    "# Remove any duplicates by the title field\n",
    "combined_snowball = combined_snowball[~combined_snowball['Title'].duplicated(keep='first')]\n",
    "\n",
    "# get the number of unique papers\n",
    "len(combined_snowball)"
   ]
  },
  {
   "cell_type": "code",
   "execution_count": 26,
   "id": "df742e0a",
   "metadata": {},
   "outputs": [
    {
     "data": {
      "text/plain": [
       "1644"
      ]
     },
     "execution_count": 26,
     "metadata": {},
     "output_type": "execute_result"
    }
   ],
   "source": [
    "# Only include papers between 2015 and 2025\n",
    "combined_snowball['Publication Year String'] = combined_snowball['Publication Year']\n",
    "combined_snowball['Publication Year'] = pd.to_numeric(combined_snowball['Publication Year String'], errors='coerce')\n",
    "combined_snowball_filtered = combined_snowball[(combined_snowball['Publication Year'] >= 2015) & (combined_snowball['Publication Year'] <= 2025)]\n",
    "len(combined_snowball_filtered)"
   ]
  },
  {
   "cell_type": "code",
   "execution_count": null,
   "id": "80e9ac67",
   "metadata": {},
   "outputs": [],
   "source": [
    "# Original Screening Dataset is 2-screenings/2-preliminary-screening/combined_results.csv\n",
    "\n",
    "original_screening = pd.read_csv('../../2-screenings/2-preliminary-screening/combined_results.csv')\n",
    "# remove any duplicates that exist in the combined_snowball_filtered (check by the Title, DOI or URL)\n",
    "final_dataset = original_screening[~original_screening['Title'].isin(combined_snowball_filtered['Title']) &\n",
    "                                  ~original_screening['DOI'].isin(combined_snowball_filtered['DOI']) &\n",
    "                                  ~original_screening['Url'].isin(combined_snowball_filtered['Url'])]\n",
    "len(final_dataset)\n",
    "\n",
    "# export and save as csv\n",
    "final_dataset.to_csv('dataset/combined_dataset_end.csv', index=False)\n",
    "\n",
    "# use the ../../helpers/csv2ris.py to conver the file to .ris format\n",
    "# python3 ../../helpers/csv2ris.py --input_file dataset/combined_dataset_end.csv --output_file dataset/combined_dataset_end.ris"
   ]
  }
 ],
 "metadata": {
  "kernelspec": {
   "display_name": "phd",
   "language": "python",
   "name": "python3"
  },
  "language_info": {
   "codemirror_mode": {
    "name": "ipython",
    "version": 3
   },
   "file_extension": ".py",
   "mimetype": "text/x-python",
   "name": "python",
   "nbconvert_exporter": "python",
   "pygments_lexer": "ipython3",
   "version": "3.10.16"
  }
 },
 "nbformat": 4,
 "nbformat_minor": 5
}
