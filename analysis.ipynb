{
 "cells": [
  {
   "cell_type": "code",
   "execution_count": 4,
   "metadata": {},
   "outputs": [],
   "source": [
    "import pandas as pd"
   ]
  },
  {
   "cell_type": "code",
   "execution_count": 5,
   "metadata": {},
   "outputs": [],
   "source": [
    "df_ieee_conferences_1 = pd.read_csv('data/iteration-6/ieee-conferences-1.csv')\n",
    "df_ieee_conferences_2 = pd.read_csv('data/iteration-6/ieee-conferences-2.csv')\n",
    "\n",
    "df_ieee_conferences = pd.concat([df_ieee_conferences_1, df_ieee_conferences_2], ignore_index=True)\n",
    "df_ieee_journals = pd.read_csv('data/iteration-6/ieee-journals.csv')\n",
    "\n",
    "df_acm_conferences_expanded = pd.read_csv('data/iteration-6/acm-conferences-expanded.csv') \n",
    "df_acm_journals_expanded = pd.read_csv('data/iteration-6/acm-journals-expanded.csv')\n",
    "df_acm_conferences = pd.read_csv('data/iteration-6/acm-conferences.csv')\n",
    "df_acm_journals = pd.read_csv('data/iteration-6/acm-journals.csv')\n",
    "df_scopus = pd.read_csv('data/iteration-6/scopus.csv')"
   ]
  },
  {
   "cell_type": "code",
   "execution_count": null,
   "metadata": {},
   "outputs": [
    {
     "name": "stdout",
     "output_type": "stream",
     "text": [
      "ACM 720 (Conferences: 599, Journals: 121)\n",
      "ACM Expanded 806 (Conferences: 685, Journals: 121)\n",
      "IEEE 2107 (Conferences: 1414, Journals: 693)\n",
      "Scopus: 801 entries\n",
      "\n",
      "Combined: 4998 entries\n",
      "After deduplication: 3143 entries\n",
      "Number of duplicates removed: 1855\n"
     ]
    }
   ],
   "source": [
    "# Get the total number of entries in each dataframe\n",
    "print(f\"ACM {len(df_acm_conferences) + len(df_acm_journals)} (Conferences: {len(df_acm_conferences)}, Journals: {len(df_acm_journals)})\")\n",
    "print(f\"ACM Expanded {len(df_acm_conferences_expanded) + len(df_acm_journals_expanded)} (Conferences: {len(df_acm_conferences_expanded)}, Journals: {len(df_acm_journals_expanded)})\")\n",
    "print(f\"IEEE {len(df_ieee_conferences) + len(df_ieee_journals)} (Conferences: {len(df_ieee_conferences)}, Journals: {len(df_ieee_journals)})\")\n",
    "print(f\"Scopus: {len(df_scopus)} entries\")\n",
    "\n",
    "# Combine all dataframes into one\n",
    "combined_df = pd.concat([df_acm_conferences_expanded,df_acm_conferences_expanded,df_acm_conferences, df_acm_journals, df_ieee_conferences, df_ieee_journals, df_scopus], ignore_index=True)\n",
    "\n",
    "# Get the total number of entries in the combined dataframe\n",
    "print(f\"\\nCombined: {len(combined_df)} entries\")\n",
    "\n",
    "# Remove duplicates based on DOI\n",
    "deduplicated_df = combined_df.drop_duplicates(subset=['DOI'])\n",
    "\n",
    "# Get the total number of entries after removing duplicates\n",
    "print(f\"After deduplication: {len(deduplicated_df)} entries\")\n",
    "print(f\"Number of duplicates removed: {len(combined_df) - len(deduplicated_df)}\")"
   ]
  },
  {
   "cell_type": "code",
   "execution_count": 7,
   "metadata": {},
   "outputs": [],
   "source": [
    "# export the deduplicated dataframe to a csv file\n",
    "deduplicated_df.to_csv('data/iteration-6/combined.csv', index=False)"
   ]
  }
 ],
 "metadata": {
  "kernelspec": {
   "display_name": "phd",
   "language": "python",
   "name": "python3"
  },
  "language_info": {
   "codemirror_mode": {
    "name": "ipython",
    "version": 3
   },
   "file_extension": ".py",
   "mimetype": "text/x-python",
   "name": "python",
   "nbconvert_exporter": "python",
   "pygments_lexer": "ipython3",
   "version": "3.10.16"
  }
 },
 "nbformat": 4,
 "nbformat_minor": 2
}
