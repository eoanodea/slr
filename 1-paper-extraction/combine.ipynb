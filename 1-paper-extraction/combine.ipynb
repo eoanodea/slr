{
 "cells": [
  {
   "cell_type": "code",
   "execution_count": 29,
   "metadata": {},
   "outputs": [],
   "source": [
    "import pandas as pd"
   ]
  },
  {
   "cell_type": "code",
   "execution_count": null,
   "metadata": {},
   "outputs": [],
   "source": [
    "df_ieee_conferences_1 = pd.read_csv('iteration-6/ieee-conferences-1.csv')\n",
    "df_ieee_conferences_2 = pd.read_csv('iteration-6/ieee-conferences-2.csv')\n",
    "\n",
    "df_ieee_conferences = pd.concat([df_ieee_conferences_1, df_ieee_conferences_2], ignore_index=True)\n",
    "df_ieee_journals = pd.read_csv('iteration-6/ieee-journals.csv')\n",
    "\n",
    "df_acm_conferences_expanded = pd.read_csv('iteration-6/acm-conferences-expanded.csv') \n",
    "df_acm_journals_expanded = pd.read_csv('iteration-6/acm-journals-expanded.csv')\n",
    "df_acm_conferences = pd.read_csv('iteration-6/acm-conferences.csv')\n",
    "df_acm_journals = pd.read_csv('iteration-6/acm-journals.csv')\n",
    "df_scopus = pd.read_csv('iteration-6/scopus.csv')"
   ]
  },
  {
   "cell_type": "code",
   "execution_count": 31,
   "metadata": {},
   "outputs": [
    {
     "name": "stdout",
     "output_type": "stream",
     "text": [
      "ACM 720 (Conferences: 599, Journals: 121)\n",
      "ACM Expanded 806 (Conferences: 685, Journals: 121)\n",
      "IEEE 2107 (Conferences: 1414, Journals: 693)\n",
      "Scopus: 804 entries\n",
      "\n",
      "Combined: 5001 entries\n",
      "After deduplication: 3146 entries\n",
      "Number of duplicates removed: 1855\n"
     ]
    }
   ],
   "source": [
    "# Get the total number of entries in each dataframe\n",
    "print(f\"ACM {len(df_acm_conferences) + len(df_acm_journals)} (Conferences: {len(df_acm_conferences)}, Journals: {len(df_acm_journals)})\")\n",
    "print(f\"ACM Expanded {len(df_acm_conferences_expanded) + len(df_acm_journals_expanded)} (Conferences: {len(df_acm_conferences_expanded)}, Journals: {len(df_acm_journals_expanded)})\")\n",
    "print(f\"IEEE {len(df_ieee_conferences) + len(df_ieee_journals)} (Conferences: {len(df_ieee_conferences)}, Journals: {len(df_ieee_journals)})\")\n",
    "print(f\"Scopus: {len(df_scopus)} entries\")\n",
    "\n",
    "# Combine all dataframes into one\n",
    "combined_df = pd.concat([df_acm_conferences_expanded,df_acm_conferences_expanded,df_acm_conferences, df_acm_journals, df_ieee_conferences, df_ieee_journals, df_scopus], ignore_index=True)\n",
    "\n",
    "# combine Columns 'Document Title' and 'Title' into 'Title'\n",
    "combined_df['Title'] = combined_df['Document Title'].combine_first(combined_df['Title'])\n",
    "# combine Columns 'Abstract' and 'Abstract Note' into 'Abstract'\n",
    "combined_df['Abstract'] = combined_df['Abstract'].combine_first(combined_df['Abstract Note'])\n",
    "\n",
    "# combine Columns 'Authors' and 'Author' into 'Authors'\n",
    "combined_df['Author'] = combined_df['Authors'].combine_first(combined_df['Author'])\n",
    "\n",
    "# combine Columns 'Item Type', 'Document Type' and 'Document Identifier' into 'Item Type'\n",
    "combined_df['Item Type'] = combined_df['Item Type'].combine_first(combined_df['Document Type'])\n",
    "combined_df['Item Type'] = combined_df['Item Type'].combine_first(combined_df['Document Identifier'])\n",
    "\n",
    "# combine Columns 'IEEE Terms', 'Index Keywords' and 'Manual Tags' into 'Keywords'\n",
    "combined_df['Keywords'] = combined_df['IEEE Terms'].combine_first(combined_df['Manual Tags'])\n",
    "combined_df['Keywords'] = combined_df['Keywords'].combine_first(combined_df['Index Keywords'])\n",
    "\n",
    "# combine Columns 'Online Date' and 'Date'\n",
    "combined_df['Date'] = combined_df['Online Date'].combine_first(combined_df['Date'])\n",
    "\n",
    "\n",
    "# Drop the columns that are not needed\n",
    "combined_df = combined_df.drop(columns=['Document Title', 'Abstract Note', 'Authors', 'Document Type', 'Document Identifier', 'IEEE Terms', 'Index Keywords', 'Manual Tags', 'Online Date'])\n",
    "\n",
    "# Get the total number of entries in the combined dataframe\n",
    "print(f\"\\nCombined: {len(combined_df)} entries\")\n",
    "\n",
    "# Remove duplicates based on DOI\n",
    "deduplicated_df = combined_df.drop_duplicates(subset=['DOI'])\n",
    "\n",
    "\n",
    "# Get the total number of entries after removing duplicates\n",
    "print(f\"After deduplication: {len(deduplicated_df)} entries\")\n",
    "print(f\"Number of duplicates removed: {len(combined_df) - len(deduplicated_df)}\")"
   ]
  },
  {
   "cell_type": "code",
   "execution_count": null,
   "metadata": {},
   "outputs": [],
   "source": [
    "# export the deduplicated dataframe to a csv file\n",
    "deduplicated_df.to_csv('iteration-6/combined.csv', index=False)"
   ]
  }
 ],
 "metadata": {
  "kernelspec": {
   "display_name": "phd",
   "language": "python",
   "name": "python3"
  },
  "language_info": {
   "codemirror_mode": {
    "name": "ipython",
    "version": 3
   },
   "file_extension": ".py",
   "mimetype": "text/x-python",
   "name": "python",
   "nbconvert_exporter": "python",
   "pygments_lexer": "ipython3",
   "version": "3.10.16"
  }
 },
 "nbformat": 4,
 "nbformat_minor": 2
}
